{
 "cells": [
  {
   "cell_type": "code",
   "execution_count": 1,
   "metadata": {},
   "outputs": [
    {
     "name": "stderr",
     "output_type": "stream",
     "text": [
      "/home/samuel/miniforge3/envs/vfx-inspect/lib/python3.10/site-packages/tqdm/auto.py:21: TqdmWarning: IProgress not found. Please update jupyter and ipywidgets. See https://ipywidgets.readthedocs.io/en/stable/user_install.html\n",
      "  from .autonotebook import tqdm as notebook_tqdm\n"
     ]
    }
   ],
   "source": [
    "import torch\n",
    "\n",
    "from diffusers import StableVideoDiffusionPipeline\n",
    "from diffusers.utils import load_image, export_to_video"
   ]
  },
  {
   "cell_type": "code",
   "execution_count": 2,
   "metadata": {},
   "outputs": [],
   "source": [
    "def custom_repr(self):\n",
    "    return f'{{Tensor:{tuple(self.shape)}}} {original_repr(self)}'\n",
    "\n",
    "torch.set_printoptions(sci_mode=False)\n",
    "original_repr = torch.Tensor.__repr__\n",
    "torch.Tensor.__repr__ = custom_repr"
   ]
  },
  {
   "cell_type": "code",
   "execution_count": 10,
   "metadata": {},
   "outputs": [
    {
     "name": "stderr",
     "output_type": "stream",
     "text": [
      "Loading pipeline components...: 100%|██████████| 5/5 [00:00<00:00,  6.66it/s]\n"
     ]
    }
   ],
   "source": [
    "device = torch.device(\"mps\" if torch.backends.mps.is_available() else \"cuda:3\" if torch.cuda.is_available() else \"cpu\")\n",
    "\n",
    "pipe = StableVideoDiffusionPipeline.from_pretrained(\n",
    "    \"stabilityai/stable-video-diffusion-img2vid-xt\" #, torch_dtype=torch.float16, variant=\"fp16\"\n",
    ").to(device)"
   ]
  },
  {
   "cell_type": "code",
   "execution_count": 11,
   "metadata": {},
   "outputs": [],
   "source": [
    "pipe.enable_model_cpu_offload()"
   ]
  },
  {
   "cell_type": "code",
   "execution_count": 13,
   "metadata": {},
   "outputs": [
    {
     "data": {
      "text/plain": [
       "StableVideoDiffusionPipeline {\n",
       "  \"_class_name\": \"StableVideoDiffusionPipeline\",\n",
       "  \"_diffusers_version\": \"0.31.0.dev0\",\n",
       "  \"_name_or_path\": \"stabilityai/stable-video-diffusion-img2vid-xt\",\n",
       "  \"feature_extractor\": [\n",
       "    \"transformers\",\n",
       "    \"CLIPImageProcessor\"\n",
       "  ],\n",
       "  \"image_encoder\": [\n",
       "    \"transformers\",\n",
       "    \"CLIPVisionModelWithProjection\"\n",
       "  ],\n",
       "  \"scheduler\": [\n",
       "    \"diffusers\",\n",
       "    \"EulerDiscreteScheduler\"\n",
       "  ],\n",
       "  \"unet\": [\n",
       "    \"diffusers\",\n",
       "    \"UNetSpatioTemporalConditionModel\"\n",
       "  ],\n",
       "  \"vae\": [\n",
       "    \"diffusers\",\n",
       "    \"AutoencoderKLTemporalDecoder\"\n",
       "  ]\n",
       "}"
      ]
     },
     "execution_count": 13,
     "metadata": {},
     "output_type": "execute_result"
    }
   ],
   "source": [
    "pipe"
   ]
  },
  {
   "cell_type": "code",
   "execution_count": 14,
   "metadata": {},
   "outputs": [
    {
     "name": "stdout",
     "output_type": "stream",
     "text": [
      "1.7777777777777777 1.7777777777777777 1.5 1.8\n"
     ]
    }
   ],
   "source": [
    "\n",
    "# Load the conditioning image\n",
    "image = load_image(\"../images/fire-car-11-700.png\")\n",
    "image = image.resize((1024, 576))\n",
    "image = image.resize((576, 320))    # convience for previewing\n",
    "print(1024/576, 512/288, 384/256, 576/320)"
   ]
  },
  {
   "cell_type": "code",
   "execution_count": 15,
   "metadata": {},
   "outputs": [
    {
     "name": "stderr",
     "output_type": "stream",
     "text": [
      "  0%|          | 0/25 [00:00<?, ?it/s]"
     ]
    },
    {
     "name": "stdout",
     "output_type": "stream",
     "text": [
      "debug: unet.forward(): sample: torch.Size([2, 25, 8, 40, 72])\n",
      "hidden_states.shape=torch.Size([50, 1280, 10, 18]), res_hidden_states.shape=torch.Size([50, 1280, 10, 18])\n",
      "hidden_states.shape=torch.Size([50, 1280, 10, 18]), res_hidden_states.shape=torch.Size([50, 1280, 10, 18])\n",
      "hidden_states.shape=torch.Size([50, 1280, 10, 18]), res_hidden_states.shape=torch.Size([50, 640, 10, 18])\n",
      "hidden_states.shape=torch.Size([50, 1280, 20, 36]), res_hidden_states.shape=torch.Size([50, 640, 20, 36])\n",
      "hidden_states.shape=torch.Size([50, 640, 20, 36]), res_hidden_states.shape=torch.Size([50, 640, 20, 36])\n",
      "hidden_states.shape=torch.Size([50, 640, 20, 36]), res_hidden_states.shape=torch.Size([50, 320, 20, 36])\n",
      "hidden_states.shape=torch.Size([50, 640, 40, 72]), res_hidden_states.shape=torch.Size([50, 320, 40, 72])\n",
      "hidden_states.shape=torch.Size([50, 320, 40, 72]), res_hidden_states.shape=torch.Size([50, 320, 40, 72])\n",
      "hidden_states.shape=torch.Size([50, 320, 40, 72]), res_hidden_states.shape=torch.Size([50, 320, 40, 72])\n"
     ]
    },
    {
     "name": "stderr",
     "output_type": "stream",
     "text": [
      "  4%|▍         | 1/25 [00:05<02:17,  5.72s/it]"
     ]
    },
    {
     "name": "stdout",
     "output_type": "stream",
     "text": [
      "debug: unet.forward(): sample: torch.Size([2, 25, 8, 40, 72])\n",
      "hidden_states.shape=torch.Size([50, 1280, 10, 18]), res_hidden_states.shape=torch.Size([50, 1280, 10, 18])\n",
      "hidden_states.shape=torch.Size([50, 1280, 10, 18]), res_hidden_states.shape=torch.Size([50, 1280, 10, 18])\n",
      "hidden_states.shape=torch.Size([50, 1280, 10, 18]), res_hidden_states.shape=torch.Size([50, 640, 10, 18])\n",
      "hidden_states.shape=torch.Size([50, 1280, 20, 36]), res_hidden_states.shape=torch.Size([50, 640, 20, 36])\n",
      "hidden_states.shape=torch.Size([50, 640, 20, 36]), res_hidden_states.shape=torch.Size([50, 640, 20, 36])\n",
      "hidden_states.shape=torch.Size([50, 640, 20, 36]), res_hidden_states.shape=torch.Size([50, 320, 20, 36])\n",
      "hidden_states.shape=torch.Size([50, 640, 40, 72]), res_hidden_states.shape=torch.Size([50, 320, 40, 72])\n",
      "hidden_states.shape=torch.Size([50, 320, 40, 72]), res_hidden_states.shape=torch.Size([50, 320, 40, 72])\n",
      "hidden_states.shape=torch.Size([50, 320, 40, 72]), res_hidden_states.shape=torch.Size([50, 320, 40, 72])\n"
     ]
    },
    {
     "name": "stderr",
     "output_type": "stream",
     "text": [
      "  8%|▊         | 2/25 [00:08<01:33,  4.06s/it]"
     ]
    },
    {
     "name": "stdout",
     "output_type": "stream",
     "text": [
      "debug: unet.forward(): sample: torch.Size([2, 25, 8, 40, 72])\n",
      "hidden_states.shape=torch.Size([50, 1280, 10, 18]), res_hidden_states.shape=torch.Size([50, 1280, 10, 18])\n",
      "hidden_states.shape=torch.Size([50, 1280, 10, 18]), res_hidden_states.shape=torch.Size([50, 1280, 10, 18])\n",
      "hidden_states.shape=torch.Size([50, 1280, 10, 18]), res_hidden_states.shape=torch.Size([50, 640, 10, 18])\n",
      "hidden_states.shape=torch.Size([50, 1280, 20, 36]), res_hidden_states.shape=torch.Size([50, 640, 20, 36])\n",
      "hidden_states.shape=torch.Size([50, 640, 20, 36]), res_hidden_states.shape=torch.Size([50, 640, 20, 36])\n",
      "hidden_states.shape=torch.Size([50, 640, 20, 36]), res_hidden_states.shape=torch.Size([50, 320, 20, 36])\n",
      "hidden_states.shape=torch.Size([50, 640, 40, 72]), res_hidden_states.shape=torch.Size([50, 320, 40, 72])\n",
      "hidden_states.shape=torch.Size([50, 320, 40, 72]), res_hidden_states.shape=torch.Size([50, 320, 40, 72])\n",
      "hidden_states.shape=torch.Size([50, 320, 40, 72]), res_hidden_states.shape=torch.Size([50, 320, 40, 72])\n"
     ]
    },
    {
     "name": "stderr",
     "output_type": "stream",
     "text": [
      " 12%|█▏        | 3/25 [00:11<01:14,  3.38s/it]"
     ]
    },
    {
     "name": "stdout",
     "output_type": "stream",
     "text": [
      "debug: unet.forward(): sample: torch.Size([2, 25, 8, 40, 72])\n",
      "hidden_states.shape=torch.Size([50, 1280, 10, 18]), res_hidden_states.shape=torch.Size([50, 1280, 10, 18])\n",
      "hidden_states.shape=torch.Size([50, 1280, 10, 18]), res_hidden_states.shape=torch.Size([50, 1280, 10, 18])\n",
      "hidden_states.shape=torch.Size([50, 1280, 10, 18]), res_hidden_states.shape=torch.Size([50, 640, 10, 18])\n",
      "hidden_states.shape=torch.Size([50, 1280, 20, 36]), res_hidden_states.shape=torch.Size([50, 640, 20, 36])\n",
      "hidden_states.shape=torch.Size([50, 640, 20, 36]), res_hidden_states.shape=torch.Size([50, 640, 20, 36])\n",
      "hidden_states.shape=torch.Size([50, 640, 20, 36]), res_hidden_states.shape=torch.Size([50, 320, 20, 36])\n",
      "hidden_states.shape=torch.Size([50, 640, 40, 72]), res_hidden_states.shape=torch.Size([50, 320, 40, 72])\n",
      "hidden_states.shape=torch.Size([50, 320, 40, 72]), res_hidden_states.shape=torch.Size([50, 320, 40, 72])\n",
      "hidden_states.shape=torch.Size([50, 320, 40, 72]), res_hidden_states.shape=torch.Size([50, 320, 40, 72])\n"
     ]
    },
    {
     "name": "stderr",
     "output_type": "stream",
     "text": [
      " 16%|█▌        | 4/25 [00:14<01:07,  3.19s/it]"
     ]
    },
    {
     "name": "stdout",
     "output_type": "stream",
     "text": [
      "debug: unet.forward(): sample: torch.Size([2, 25, 8, 40, 72])\n",
      "hidden_states.shape=torch.Size([50, 1280, 10, 18]), res_hidden_states.shape=torch.Size([50, 1280, 10, 18])\n",
      "hidden_states.shape=torch.Size([50, 1280, 10, 18]), res_hidden_states.shape=torch.Size([50, 1280, 10, 18])\n",
      "hidden_states.shape=torch.Size([50, 1280, 10, 18]), res_hidden_states.shape=torch.Size([50, 640, 10, 18])\n",
      "hidden_states.shape=torch.Size([50, 1280, 20, 36]), res_hidden_states.shape=torch.Size([50, 640, 20, 36])\n",
      "hidden_states.shape=torch.Size([50, 640, 20, 36]), res_hidden_states.shape=torch.Size([50, 640, 20, 36])\n",
      "hidden_states.shape=torch.Size([50, 640, 20, 36]), res_hidden_states.shape=torch.Size([50, 320, 20, 36])\n",
      "hidden_states.shape=torch.Size([50, 640, 40, 72]), res_hidden_states.shape=torch.Size([50, 320, 40, 72])\n",
      "hidden_states.shape=torch.Size([50, 320, 40, 72]), res_hidden_states.shape=torch.Size([50, 320, 40, 72])\n",
      "hidden_states.shape=torch.Size([50, 320, 40, 72]), res_hidden_states.shape=torch.Size([50, 320, 40, 72])\n"
     ]
    },
    {
     "name": "stderr",
     "output_type": "stream",
     "text": [
      " 20%|██        | 5/25 [00:16<00:59,  2.97s/it]"
     ]
    },
    {
     "name": "stdout",
     "output_type": "stream",
     "text": [
      "debug: unet.forward(): sample: torch.Size([2, 25, 8, 40, 72])\n",
      "hidden_states.shape=torch.Size([50, 1280, 10, 18]), res_hidden_states.shape=torch.Size([50, 1280, 10, 18])\n",
      "hidden_states.shape=torch.Size([50, 1280, 10, 18]), res_hidden_states.shape=torch.Size([50, 1280, 10, 18])\n",
      "hidden_states.shape=torch.Size([50, 1280, 10, 18]), res_hidden_states.shape=torch.Size([50, 640, 10, 18])\n",
      "hidden_states.shape=torch.Size([50, 1280, 20, 36]), res_hidden_states.shape=torch.Size([50, 640, 20, 36])\n",
      "hidden_states.shape=torch.Size([50, 640, 20, 36]), res_hidden_states.shape=torch.Size([50, 640, 20, 36])\n",
      "hidden_states.shape=torch.Size([50, 640, 20, 36]), res_hidden_states.shape=torch.Size([50, 320, 20, 36])\n",
      "hidden_states.shape=torch.Size([50, 640, 40, 72]), res_hidden_states.shape=torch.Size([50, 320, 40, 72])\n",
      "hidden_states.shape=torch.Size([50, 320, 40, 72]), res_hidden_states.shape=torch.Size([50, 320, 40, 72])\n",
      "hidden_states.shape=torch.Size([50, 320, 40, 72]), res_hidden_states.shape=torch.Size([50, 320, 40, 72])\n"
     ]
    },
    {
     "name": "stderr",
     "output_type": "stream",
     "text": [
      " 24%|██▍       | 6/25 [00:19<00:55,  2.90s/it]"
     ]
    },
    {
     "name": "stdout",
     "output_type": "stream",
     "text": [
      "debug: unet.forward(): sample: torch.Size([2, 25, 8, 40, 72])\n",
      "hidden_states.shape=torch.Size([50, 1280, 10, 18]), res_hidden_states.shape=torch.Size([50, 1280, 10, 18])\n",
      "hidden_states.shape=torch.Size([50, 1280, 10, 18]), res_hidden_states.shape=torch.Size([50, 1280, 10, 18])\n",
      "hidden_states.shape=torch.Size([50, 1280, 10, 18]), res_hidden_states.shape=torch.Size([50, 640, 10, 18])\n",
      "hidden_states.shape=torch.Size([50, 1280, 20, 36]), res_hidden_states.shape=torch.Size([50, 640, 20, 36])\n",
      "hidden_states.shape=torch.Size([50, 640, 20, 36]), res_hidden_states.shape=torch.Size([50, 640, 20, 36])\n",
      "hidden_states.shape=torch.Size([50, 640, 20, 36]), res_hidden_states.shape=torch.Size([50, 320, 20, 36])\n",
      "hidden_states.shape=torch.Size([50, 640, 40, 72]), res_hidden_states.shape=torch.Size([50, 320, 40, 72])\n",
      "hidden_states.shape=torch.Size([50, 320, 40, 72]), res_hidden_states.shape=torch.Size([50, 320, 40, 72])\n",
      "hidden_states.shape=torch.Size([50, 320, 40, 72]), res_hidden_states.shape=torch.Size([50, 320, 40, 72])\n"
     ]
    },
    {
     "name": "stderr",
     "output_type": "stream",
     "text": [
      " 28%|██▊       | 7/25 [00:21<00:50,  2.79s/it]"
     ]
    },
    {
     "name": "stdout",
     "output_type": "stream",
     "text": [
      "debug: unet.forward(): sample: torch.Size([2, 25, 8, 40, 72])\n",
      "hidden_states.shape=torch.Size([50, 1280, 10, 18]), res_hidden_states.shape=torch.Size([50, 1280, 10, 18])\n",
      "hidden_states.shape=torch.Size([50, 1280, 10, 18]), res_hidden_states.shape=torch.Size([50, 1280, 10, 18])\n",
      "hidden_states.shape=torch.Size([50, 1280, 10, 18]), res_hidden_states.shape=torch.Size([50, 640, 10, 18])\n",
      "hidden_states.shape=torch.Size([50, 1280, 20, 36]), res_hidden_states.shape=torch.Size([50, 640, 20, 36])\n",
      "hidden_states.shape=torch.Size([50, 640, 20, 36]), res_hidden_states.shape=torch.Size([50, 640, 20, 36])\n",
      "hidden_states.shape=torch.Size([50, 640, 20, 36]), res_hidden_states.shape=torch.Size([50, 320, 20, 36])\n",
      "hidden_states.shape=torch.Size([50, 640, 40, 72]), res_hidden_states.shape=torch.Size([50, 320, 40, 72])\n",
      "hidden_states.shape=torch.Size([50, 320, 40, 72]), res_hidden_states.shape=torch.Size([50, 320, 40, 72])\n",
      "hidden_states.shape=torch.Size([50, 320, 40, 72]), res_hidden_states.shape=torch.Size([50, 320, 40, 72])\n"
     ]
    },
    {
     "name": "stderr",
     "output_type": "stream",
     "text": [
      " 32%|███▏      | 8/25 [00:24<00:47,  2.77s/it]"
     ]
    },
    {
     "name": "stdout",
     "output_type": "stream",
     "text": [
      "debug: unet.forward(): sample: torch.Size([2, 25, 8, 40, 72])\n",
      "hidden_states.shape=torch.Size([50, 1280, 10, 18]), res_hidden_states.shape=torch.Size([50, 1280, 10, 18])\n",
      "hidden_states.shape=torch.Size([50, 1280, 10, 18]), res_hidden_states.shape=torch.Size([50, 1280, 10, 18])\n",
      "hidden_states.shape=torch.Size([50, 1280, 10, 18]), res_hidden_states.shape=torch.Size([50, 640, 10, 18])\n",
      "hidden_states.shape=torch.Size([50, 1280, 20, 36]), res_hidden_states.shape=torch.Size([50, 640, 20, 36])\n",
      "hidden_states.shape=torch.Size([50, 640, 20, 36]), res_hidden_states.shape=torch.Size([50, 640, 20, 36])\n",
      "hidden_states.shape=torch.Size([50, 640, 20, 36]), res_hidden_states.shape=torch.Size([50, 320, 20, 36])\n",
      "hidden_states.shape=torch.Size([50, 640, 40, 72]), res_hidden_states.shape=torch.Size([50, 320, 40, 72])\n",
      "hidden_states.shape=torch.Size([50, 320, 40, 72]), res_hidden_states.shape=torch.Size([50, 320, 40, 72])\n",
      "hidden_states.shape=torch.Size([50, 320, 40, 72]), res_hidden_states.shape=torch.Size([50, 320, 40, 72])\n"
     ]
    },
    {
     "name": "stderr",
     "output_type": "stream",
     "text": [
      " 36%|███▌      | 9/25 [00:27<00:43,  2.71s/it]"
     ]
    },
    {
     "name": "stdout",
     "output_type": "stream",
     "text": [
      "debug: unet.forward(): sample: torch.Size([2, 25, 8, 40, 72])\n",
      "hidden_states.shape=torch.Size([50, 1280, 10, 18]), res_hidden_states.shape=torch.Size([50, 1280, 10, 18])\n",
      "hidden_states.shape=torch.Size([50, 1280, 10, 18]), res_hidden_states.shape=torch.Size([50, 1280, 10, 18])\n",
      "hidden_states.shape=torch.Size([50, 1280, 10, 18]), res_hidden_states.shape=torch.Size([50, 640, 10, 18])\n",
      "hidden_states.shape=torch.Size([50, 1280, 20, 36]), res_hidden_states.shape=torch.Size([50, 640, 20, 36])\n",
      "hidden_states.shape=torch.Size([50, 640, 20, 36]), res_hidden_states.shape=torch.Size([50, 640, 20, 36])\n",
      "hidden_states.shape=torch.Size([50, 640, 20, 36]), res_hidden_states.shape=torch.Size([50, 320, 20, 36])\n",
      "hidden_states.shape=torch.Size([50, 640, 40, 72]), res_hidden_states.shape=torch.Size([50, 320, 40, 72])\n",
      "hidden_states.shape=torch.Size([50, 320, 40, 72]), res_hidden_states.shape=torch.Size([50, 320, 40, 72])\n",
      "hidden_states.shape=torch.Size([50, 320, 40, 72]), res_hidden_states.shape=torch.Size([50, 320, 40, 72])\n"
     ]
    },
    {
     "name": "stderr",
     "output_type": "stream",
     "text": [
      " 40%|████      | 10/25 [00:29<00:40,  2.71s/it]"
     ]
    },
    {
     "name": "stdout",
     "output_type": "stream",
     "text": [
      "debug: unet.forward(): sample: torch.Size([2, 25, 8, 40, 72])\n",
      "hidden_states.shape=torch.Size([50, 1280, 10, 18]), res_hidden_states.shape=torch.Size([50, 1280, 10, 18])\n",
      "hidden_states.shape=torch.Size([50, 1280, 10, 18]), res_hidden_states.shape=torch.Size([50, 1280, 10, 18])\n",
      "hidden_states.shape=torch.Size([50, 1280, 10, 18]), res_hidden_states.shape=torch.Size([50, 640, 10, 18])\n",
      "hidden_states.shape=torch.Size([50, 1280, 20, 36]), res_hidden_states.shape=torch.Size([50, 640, 20, 36])\n",
      "hidden_states.shape=torch.Size([50, 640, 20, 36]), res_hidden_states.shape=torch.Size([50, 640, 20, 36])\n",
      "hidden_states.shape=torch.Size([50, 640, 20, 36]), res_hidden_states.shape=torch.Size([50, 320, 20, 36])\n",
      "hidden_states.shape=torch.Size([50, 640, 40, 72]), res_hidden_states.shape=torch.Size([50, 320, 40, 72])\n",
      "hidden_states.shape=torch.Size([50, 320, 40, 72]), res_hidden_states.shape=torch.Size([50, 320, 40, 72])\n",
      "hidden_states.shape=torch.Size([50, 320, 40, 72]), res_hidden_states.shape=torch.Size([50, 320, 40, 72])\n"
     ]
    },
    {
     "name": "stderr",
     "output_type": "stream",
     "text": [
      " 44%|████▍     | 11/25 [00:32<00:37,  2.67s/it]"
     ]
    },
    {
     "name": "stdout",
     "output_type": "stream",
     "text": [
      "debug: unet.forward(): sample: torch.Size([2, 25, 8, 40, 72])\n",
      "hidden_states.shape=torch.Size([50, 1280, 10, 18]), res_hidden_states.shape=torch.Size([50, 1280, 10, 18])\n",
      "hidden_states.shape=torch.Size([50, 1280, 10, 18]), res_hidden_states.shape=torch.Size([50, 1280, 10, 18])\n",
      "hidden_states.shape=torch.Size([50, 1280, 10, 18]), res_hidden_states.shape=torch.Size([50, 640, 10, 18])\n",
      "hidden_states.shape=torch.Size([50, 1280, 20, 36]), res_hidden_states.shape=torch.Size([50, 640, 20, 36])\n",
      "hidden_states.shape=torch.Size([50, 640, 20, 36]), res_hidden_states.shape=torch.Size([50, 640, 20, 36])\n",
      "hidden_states.shape=torch.Size([50, 640, 20, 36]), res_hidden_states.shape=torch.Size([50, 320, 20, 36])\n",
      "hidden_states.shape=torch.Size([50, 640, 40, 72]), res_hidden_states.shape=torch.Size([50, 320, 40, 72])\n",
      "hidden_states.shape=torch.Size([50, 320, 40, 72]), res_hidden_states.shape=torch.Size([50, 320, 40, 72])\n",
      "hidden_states.shape=torch.Size([50, 320, 40, 72]), res_hidden_states.shape=torch.Size([50, 320, 40, 72])\n"
     ]
    },
    {
     "name": "stderr",
     "output_type": "stream",
     "text": [
      " 48%|████▊     | 12/25 [00:35<00:34,  2.68s/it]"
     ]
    },
    {
     "name": "stdout",
     "output_type": "stream",
     "text": [
      "debug: unet.forward(): sample: torch.Size([2, 25, 8, 40, 72])\n",
      "hidden_states.shape=torch.Size([50, 1280, 10, 18]), res_hidden_states.shape=torch.Size([50, 1280, 10, 18])\n",
      "hidden_states.shape=torch.Size([50, 1280, 10, 18]), res_hidden_states.shape=torch.Size([50, 1280, 10, 18])\n",
      "hidden_states.shape=torch.Size([50, 1280, 10, 18]), res_hidden_states.shape=torch.Size([50, 640, 10, 18])\n",
      "hidden_states.shape=torch.Size([50, 1280, 20, 36]), res_hidden_states.shape=torch.Size([50, 640, 20, 36])\n",
      "hidden_states.shape=torch.Size([50, 640, 20, 36]), res_hidden_states.shape=torch.Size([50, 640, 20, 36])\n",
      "hidden_states.shape=torch.Size([50, 640, 20, 36]), res_hidden_states.shape=torch.Size([50, 320, 20, 36])\n",
      "hidden_states.shape=torch.Size([50, 640, 40, 72]), res_hidden_states.shape=torch.Size([50, 320, 40, 72])\n",
      "hidden_states.shape=torch.Size([50, 320, 40, 72]), res_hidden_states.shape=torch.Size([50, 320, 40, 72])\n",
      "hidden_states.shape=torch.Size([50, 320, 40, 72]), res_hidden_states.shape=torch.Size([50, 320, 40, 72])\n"
     ]
    },
    {
     "name": "stderr",
     "output_type": "stream",
     "text": [
      " 52%|█████▏    | 13/25 [00:37<00:31,  2.65s/it]"
     ]
    },
    {
     "name": "stdout",
     "output_type": "stream",
     "text": [
      "debug: unet.forward(): sample: torch.Size([2, 25, 8, 40, 72])\n",
      "hidden_states.shape=torch.Size([50, 1280, 10, 18]), res_hidden_states.shape=torch.Size([50, 1280, 10, 18])\n",
      "hidden_states.shape=torch.Size([50, 1280, 10, 18]), res_hidden_states.shape=torch.Size([50, 1280, 10, 18])\n",
      "hidden_states.shape=torch.Size([50, 1280, 10, 18]), res_hidden_states.shape=torch.Size([50, 640, 10, 18])\n",
      "hidden_states.shape=torch.Size([50, 1280, 20, 36]), res_hidden_states.shape=torch.Size([50, 640, 20, 36])\n",
      "hidden_states.shape=torch.Size([50, 640, 20, 36]), res_hidden_states.shape=torch.Size([50, 640, 20, 36])\n",
      "hidden_states.shape=torch.Size([50, 640, 20, 36]), res_hidden_states.shape=torch.Size([50, 320, 20, 36])\n",
      "hidden_states.shape=torch.Size([50, 640, 40, 72]), res_hidden_states.shape=torch.Size([50, 320, 40, 72])\n",
      "hidden_states.shape=torch.Size([50, 320, 40, 72]), res_hidden_states.shape=torch.Size([50, 320, 40, 72])\n",
      "hidden_states.shape=torch.Size([50, 320, 40, 72]), res_hidden_states.shape=torch.Size([50, 320, 40, 72])\n"
     ]
    },
    {
     "name": "stderr",
     "output_type": "stream",
     "text": [
      " 56%|█████▌    | 14/25 [00:40<00:29,  2.67s/it]"
     ]
    },
    {
     "name": "stdout",
     "output_type": "stream",
     "text": [
      "debug: unet.forward(): sample: torch.Size([2, 25, 8, 40, 72])\n",
      "hidden_states.shape=torch.Size([50, 1280, 10, 18]), res_hidden_states.shape=torch.Size([50, 1280, 10, 18])\n",
      "hidden_states.shape=torch.Size([50, 1280, 10, 18]), res_hidden_states.shape=torch.Size([50, 1280, 10, 18])\n",
      "hidden_states.shape=torch.Size([50, 1280, 10, 18]), res_hidden_states.shape=torch.Size([50, 640, 10, 18])\n",
      "hidden_states.shape=torch.Size([50, 1280, 20, 36]), res_hidden_states.shape=torch.Size([50, 640, 20, 36])\n",
      "hidden_states.shape=torch.Size([50, 640, 20, 36]), res_hidden_states.shape=torch.Size([50, 640, 20, 36])\n",
      "hidden_states.shape=torch.Size([50, 640, 20, 36]), res_hidden_states.shape=torch.Size([50, 320, 20, 36])\n",
      "hidden_states.shape=torch.Size([50, 640, 40, 72]), res_hidden_states.shape=torch.Size([50, 320, 40, 72])\n",
      "hidden_states.shape=torch.Size([50, 320, 40, 72]), res_hidden_states.shape=torch.Size([50, 320, 40, 72])\n",
      "hidden_states.shape=torch.Size([50, 320, 40, 72]), res_hidden_states.shape=torch.Size([50, 320, 40, 72])\n"
     ]
    },
    {
     "name": "stderr",
     "output_type": "stream",
     "text": [
      " 60%|██████    | 15/25 [00:43<00:26,  2.64s/it]"
     ]
    },
    {
     "name": "stdout",
     "output_type": "stream",
     "text": [
      "debug: unet.forward(): sample: torch.Size([2, 25, 8, 40, 72])\n",
      "hidden_states.shape=torch.Size([50, 1280, 10, 18]), res_hidden_states.shape=torch.Size([50, 1280, 10, 18])\n",
      "hidden_states.shape=torch.Size([50, 1280, 10, 18]), res_hidden_states.shape=torch.Size([50, 1280, 10, 18])\n",
      "hidden_states.shape=torch.Size([50, 1280, 10, 18]), res_hidden_states.shape=torch.Size([50, 640, 10, 18])\n",
      "hidden_states.shape=torch.Size([50, 1280, 20, 36]), res_hidden_states.shape=torch.Size([50, 640, 20, 36])\n",
      "hidden_states.shape=torch.Size([50, 640, 20, 36]), res_hidden_states.shape=torch.Size([50, 640, 20, 36])\n",
      "hidden_states.shape=torch.Size([50, 640, 20, 36]), res_hidden_states.shape=torch.Size([50, 320, 20, 36])\n",
      "hidden_states.shape=torch.Size([50, 640, 40, 72]), res_hidden_states.shape=torch.Size([50, 320, 40, 72])\n",
      "hidden_states.shape=torch.Size([50, 320, 40, 72]), res_hidden_states.shape=torch.Size([50, 320, 40, 72])\n",
      "hidden_states.shape=torch.Size([50, 320, 40, 72]), res_hidden_states.shape=torch.Size([50, 320, 40, 72])\n"
     ]
    },
    {
     "name": "stderr",
     "output_type": "stream",
     "text": [
      " 64%|██████▍   | 16/25 [00:45<00:23,  2.66s/it]"
     ]
    },
    {
     "name": "stdout",
     "output_type": "stream",
     "text": [
      "debug: unet.forward(): sample: torch.Size([2, 25, 8, 40, 72])\n",
      "hidden_states.shape=torch.Size([50, 1280, 10, 18]), res_hidden_states.shape=torch.Size([50, 1280, 10, 18])\n",
      "hidden_states.shape=torch.Size([50, 1280, 10, 18]), res_hidden_states.shape=torch.Size([50, 1280, 10, 18])\n",
      "hidden_states.shape=torch.Size([50, 1280, 10, 18]), res_hidden_states.shape=torch.Size([50, 640, 10, 18])\n",
      "hidden_states.shape=torch.Size([50, 1280, 20, 36]), res_hidden_states.shape=torch.Size([50, 640, 20, 36])\n",
      "hidden_states.shape=torch.Size([50, 640, 20, 36]), res_hidden_states.shape=torch.Size([50, 640, 20, 36])\n",
      "hidden_states.shape=torch.Size([50, 640, 20, 36]), res_hidden_states.shape=torch.Size([50, 320, 20, 36])\n",
      "hidden_states.shape=torch.Size([50, 640, 40, 72]), res_hidden_states.shape=torch.Size([50, 320, 40, 72])\n",
      "hidden_states.shape=torch.Size([50, 320, 40, 72]), res_hidden_states.shape=torch.Size([50, 320, 40, 72])\n",
      "hidden_states.shape=torch.Size([50, 320, 40, 72]), res_hidden_states.shape=torch.Size([50, 320, 40, 72])\n"
     ]
    },
    {
     "name": "stderr",
     "output_type": "stream",
     "text": [
      " 68%|██████▊   | 17/25 [00:48<00:21,  2.64s/it]"
     ]
    },
    {
     "name": "stdout",
     "output_type": "stream",
     "text": [
      "debug: unet.forward(): sample: torch.Size([2, 25, 8, 40, 72])\n",
      "hidden_states.shape=torch.Size([50, 1280, 10, 18]), res_hidden_states.shape=torch.Size([50, 1280, 10, 18])\n",
      "hidden_states.shape=torch.Size([50, 1280, 10, 18]), res_hidden_states.shape=torch.Size([50, 1280, 10, 18])\n",
      "hidden_states.shape=torch.Size([50, 1280, 10, 18]), res_hidden_states.shape=torch.Size([50, 640, 10, 18])\n",
      "hidden_states.shape=torch.Size([50, 1280, 20, 36]), res_hidden_states.shape=torch.Size([50, 640, 20, 36])\n",
      "hidden_states.shape=torch.Size([50, 640, 20, 36]), res_hidden_states.shape=torch.Size([50, 640, 20, 36])\n",
      "hidden_states.shape=torch.Size([50, 640, 20, 36]), res_hidden_states.shape=torch.Size([50, 320, 20, 36])\n",
      "hidden_states.shape=torch.Size([50, 640, 40, 72]), res_hidden_states.shape=torch.Size([50, 320, 40, 72])\n",
      "hidden_states.shape=torch.Size([50, 320, 40, 72]), res_hidden_states.shape=torch.Size([50, 320, 40, 72])\n",
      "hidden_states.shape=torch.Size([50, 320, 40, 72]), res_hidden_states.shape=torch.Size([50, 320, 40, 72])\n"
     ]
    },
    {
     "name": "stderr",
     "output_type": "stream",
     "text": [
      " 72%|███████▏  | 18/25 [00:51<00:18,  2.66s/it]"
     ]
    },
    {
     "name": "stdout",
     "output_type": "stream",
     "text": [
      "debug: unet.forward(): sample: torch.Size([2, 25, 8, 40, 72])\n",
      "hidden_states.shape=torch.Size([50, 1280, 10, 18]), res_hidden_states.shape=torch.Size([50, 1280, 10, 18])\n",
      "hidden_states.shape=torch.Size([50, 1280, 10, 18]), res_hidden_states.shape=torch.Size([50, 1280, 10, 18])\n",
      "hidden_states.shape=torch.Size([50, 1280, 10, 18]), res_hidden_states.shape=torch.Size([50, 640, 10, 18])\n",
      "hidden_states.shape=torch.Size([50, 1280, 20, 36]), res_hidden_states.shape=torch.Size([50, 640, 20, 36])\n",
      "hidden_states.shape=torch.Size([50, 640, 20, 36]), res_hidden_states.shape=torch.Size([50, 640, 20, 36])\n",
      "hidden_states.shape=torch.Size([50, 640, 20, 36]), res_hidden_states.shape=torch.Size([50, 320, 20, 36])\n",
      "hidden_states.shape=torch.Size([50, 640, 40, 72]), res_hidden_states.shape=torch.Size([50, 320, 40, 72])\n",
      "hidden_states.shape=torch.Size([50, 320, 40, 72]), res_hidden_states.shape=torch.Size([50, 320, 40, 72])\n",
      "hidden_states.shape=torch.Size([50, 320, 40, 72]), res_hidden_states.shape=torch.Size([50, 320, 40, 72])\n"
     ]
    },
    {
     "name": "stderr",
     "output_type": "stream",
     "text": [
      " 76%|███████▌  | 19/25 [00:53<00:15,  2.64s/it]"
     ]
    },
    {
     "name": "stdout",
     "output_type": "stream",
     "text": [
      "debug: unet.forward(): sample: torch.Size([2, 25, 8, 40, 72])\n",
      "hidden_states.shape=torch.Size([50, 1280, 10, 18]), res_hidden_states.shape=torch.Size([50, 1280, 10, 18])\n",
      "hidden_states.shape=torch.Size([50, 1280, 10, 18]), res_hidden_states.shape=torch.Size([50, 1280, 10, 18])\n",
      "hidden_states.shape=torch.Size([50, 1280, 10, 18]), res_hidden_states.shape=torch.Size([50, 640, 10, 18])\n",
      "hidden_states.shape=torch.Size([50, 1280, 20, 36]), res_hidden_states.shape=torch.Size([50, 640, 20, 36])\n",
      "hidden_states.shape=torch.Size([50, 640, 20, 36]), res_hidden_states.shape=torch.Size([50, 640, 20, 36])\n",
      "hidden_states.shape=torch.Size([50, 640, 20, 36]), res_hidden_states.shape=torch.Size([50, 320, 20, 36])\n",
      "hidden_states.shape=torch.Size([50, 640, 40, 72]), res_hidden_states.shape=torch.Size([50, 320, 40, 72])\n",
      "hidden_states.shape=torch.Size([50, 320, 40, 72]), res_hidden_states.shape=torch.Size([50, 320, 40, 72])\n",
      "hidden_states.shape=torch.Size([50, 320, 40, 72]), res_hidden_states.shape=torch.Size([50, 320, 40, 72])\n"
     ]
    },
    {
     "name": "stderr",
     "output_type": "stream",
     "text": [
      " 80%|████████  | 20/25 [00:56<00:13,  2.67s/it]"
     ]
    },
    {
     "name": "stdout",
     "output_type": "stream",
     "text": [
      "debug: unet.forward(): sample: torch.Size([2, 25, 8, 40, 72])\n",
      "hidden_states.shape=torch.Size([50, 1280, 10, 18]), res_hidden_states.shape=torch.Size([50, 1280, 10, 18])\n",
      "hidden_states.shape=torch.Size([50, 1280, 10, 18]), res_hidden_states.shape=torch.Size([50, 1280, 10, 18])\n",
      "hidden_states.shape=torch.Size([50, 1280, 10, 18]), res_hidden_states.shape=torch.Size([50, 640, 10, 18])\n",
      "hidden_states.shape=torch.Size([50, 1280, 20, 36]), res_hidden_states.shape=torch.Size([50, 640, 20, 36])\n",
      "hidden_states.shape=torch.Size([50, 640, 20, 36]), res_hidden_states.shape=torch.Size([50, 640, 20, 36])\n",
      "hidden_states.shape=torch.Size([50, 640, 20, 36]), res_hidden_states.shape=torch.Size([50, 320, 20, 36])\n",
      "hidden_states.shape=torch.Size([50, 640, 40, 72]), res_hidden_states.shape=torch.Size([50, 320, 40, 72])\n",
      "hidden_states.shape=torch.Size([50, 320, 40, 72]), res_hidden_states.shape=torch.Size([50, 320, 40, 72])\n",
      "hidden_states.shape=torch.Size([50, 320, 40, 72]), res_hidden_states.shape=torch.Size([50, 320, 40, 72])\n"
     ]
    },
    {
     "name": "stderr",
     "output_type": "stream",
     "text": [
      " 84%|████████▍ | 21/25 [00:59<00:10,  2.65s/it]"
     ]
    },
    {
     "name": "stdout",
     "output_type": "stream",
     "text": [
      "debug: unet.forward(): sample: torch.Size([2, 25, 8, 40, 72])\n",
      "hidden_states.shape=torch.Size([50, 1280, 10, 18]), res_hidden_states.shape=torch.Size([50, 1280, 10, 18])\n",
      "hidden_states.shape=torch.Size([50, 1280, 10, 18]), res_hidden_states.shape=torch.Size([50, 1280, 10, 18])\n",
      "hidden_states.shape=torch.Size([50, 1280, 10, 18]), res_hidden_states.shape=torch.Size([50, 640, 10, 18])\n",
      "hidden_states.shape=torch.Size([50, 1280, 20, 36]), res_hidden_states.shape=torch.Size([50, 640, 20, 36])\n",
      "hidden_states.shape=torch.Size([50, 640, 20, 36]), res_hidden_states.shape=torch.Size([50, 640, 20, 36])\n",
      "hidden_states.shape=torch.Size([50, 640, 20, 36]), res_hidden_states.shape=torch.Size([50, 320, 20, 36])\n",
      "hidden_states.shape=torch.Size([50, 640, 40, 72]), res_hidden_states.shape=torch.Size([50, 320, 40, 72])\n",
      "hidden_states.shape=torch.Size([50, 320, 40, 72]), res_hidden_states.shape=torch.Size([50, 320, 40, 72])\n",
      "hidden_states.shape=torch.Size([50, 320, 40, 72]), res_hidden_states.shape=torch.Size([50, 320, 40, 72])\n"
     ]
    },
    {
     "name": "stderr",
     "output_type": "stream",
     "text": [
      " 88%|████████▊ | 22/25 [01:01<00:07,  2.66s/it]"
     ]
    },
    {
     "name": "stdout",
     "output_type": "stream",
     "text": [
      "debug: unet.forward(): sample: torch.Size([2, 25, 8, 40, 72])\n",
      "hidden_states.shape=torch.Size([50, 1280, 10, 18]), res_hidden_states.shape=torch.Size([50, 1280, 10, 18])\n",
      "hidden_states.shape=torch.Size([50, 1280, 10, 18]), res_hidden_states.shape=torch.Size([50, 1280, 10, 18])\n",
      "hidden_states.shape=torch.Size([50, 1280, 10, 18]), res_hidden_states.shape=torch.Size([50, 640, 10, 18])\n",
      "hidden_states.shape=torch.Size([50, 1280, 20, 36]), res_hidden_states.shape=torch.Size([50, 640, 20, 36])\n",
      "hidden_states.shape=torch.Size([50, 640, 20, 36]), res_hidden_states.shape=torch.Size([50, 640, 20, 36])\n",
      "hidden_states.shape=torch.Size([50, 640, 20, 36]), res_hidden_states.shape=torch.Size([50, 320, 20, 36])\n",
      "hidden_states.shape=torch.Size([50, 640, 40, 72]), res_hidden_states.shape=torch.Size([50, 320, 40, 72])\n",
      "hidden_states.shape=torch.Size([50, 320, 40, 72]), res_hidden_states.shape=torch.Size([50, 320, 40, 72])\n",
      "hidden_states.shape=torch.Size([50, 320, 40, 72]), res_hidden_states.shape=torch.Size([50, 320, 40, 72])\n"
     ]
    },
    {
     "name": "stderr",
     "output_type": "stream",
     "text": [
      " 92%|█████████▏| 23/25 [01:04<00:05,  2.64s/it]"
     ]
    },
    {
     "name": "stdout",
     "output_type": "stream",
     "text": [
      "debug: unet.forward(): sample: torch.Size([2, 25, 8, 40, 72])\n",
      "hidden_states.shape=torch.Size([50, 1280, 10, 18]), res_hidden_states.shape=torch.Size([50, 1280, 10, 18])\n",
      "hidden_states.shape=torch.Size([50, 1280, 10, 18]), res_hidden_states.shape=torch.Size([50, 1280, 10, 18])\n",
      "hidden_states.shape=torch.Size([50, 1280, 10, 18]), res_hidden_states.shape=torch.Size([50, 640, 10, 18])\n",
      "hidden_states.shape=torch.Size([50, 1280, 20, 36]), res_hidden_states.shape=torch.Size([50, 640, 20, 36])\n",
      "hidden_states.shape=torch.Size([50, 640, 20, 36]), res_hidden_states.shape=torch.Size([50, 640, 20, 36])\n",
      "hidden_states.shape=torch.Size([50, 640, 20, 36]), res_hidden_states.shape=torch.Size([50, 320, 20, 36])\n",
      "hidden_states.shape=torch.Size([50, 640, 40, 72]), res_hidden_states.shape=torch.Size([50, 320, 40, 72])\n",
      "hidden_states.shape=torch.Size([50, 320, 40, 72]), res_hidden_states.shape=torch.Size([50, 320, 40, 72])\n",
      "hidden_states.shape=torch.Size([50, 320, 40, 72]), res_hidden_states.shape=torch.Size([50, 320, 40, 72])\n"
     ]
    },
    {
     "name": "stderr",
     "output_type": "stream",
     "text": [
      " 96%|█████████▌| 24/25 [01:07<00:02,  2.64s/it]"
     ]
    },
    {
     "name": "stdout",
     "output_type": "stream",
     "text": [
      "debug: unet.forward(): sample: torch.Size([2, 25, 8, 40, 72])\n",
      "hidden_states.shape=torch.Size([50, 1280, 10, 18]), res_hidden_states.shape=torch.Size([50, 1280, 10, 18])\n",
      "hidden_states.shape=torch.Size([50, 1280, 10, 18]), res_hidden_states.shape=torch.Size([50, 1280, 10, 18])\n",
      "hidden_states.shape=torch.Size([50, 1280, 10, 18]), res_hidden_states.shape=torch.Size([50, 640, 10, 18])\n",
      "hidden_states.shape=torch.Size([50, 1280, 20, 36]), res_hidden_states.shape=torch.Size([50, 640, 20, 36])\n",
      "hidden_states.shape=torch.Size([50, 640, 20, 36]), res_hidden_states.shape=torch.Size([50, 640, 20, 36])\n",
      "hidden_states.shape=torch.Size([50, 640, 20, 36]), res_hidden_states.shape=torch.Size([50, 320, 20, 36])\n",
      "hidden_states.shape=torch.Size([50, 640, 40, 72]), res_hidden_states.shape=torch.Size([50, 320, 40, 72])\n",
      "hidden_states.shape=torch.Size([50, 320, 40, 72]), res_hidden_states.shape=torch.Size([50, 320, 40, 72])\n",
      "hidden_states.shape=torch.Size([50, 320, 40, 72]), res_hidden_states.shape=torch.Size([50, 320, 40, 72])\n"
     ]
    },
    {
     "name": "stderr",
     "output_type": "stream",
     "text": [
      "100%|██████████| 25/25 [01:09<00:00,  2.78s/it]\n"
     ]
    }
   ],
   "source": [
    "generator = torch.manual_seed(42)\n",
    "frames = pipe(image, decode_chunk_size=8, generator=generator, height=320, width=576).frames[0]"
   ]
  },
  {
   "cell_type": "code",
   "execution_count": 16,
   "metadata": {},
   "outputs": [
    {
     "name": "stdout",
     "output_type": "stream",
     "text": [
      "25 [<PIL.Image.Image image mode=RGB size=576x320 at 0x7F96B831B220>, <PIL.Image.Image image mode=RGB size=576x320 at 0x7F96B831ADD0>, <PIL.Image.Image image mode=RGB size=576x320 at 0x7F96B831B490>, <PIL.Image.Image image mode=RGB size=576x320 at 0x7F96B831B340>, <PIL.Image.Image image mode=RGB size=576x320 at 0x7F96B831B0A0>, <PIL.Image.Image image mode=RGB size=576x320 at 0x7F96B831B010>, <PIL.Image.Image image mode=RGB size=576x320 at 0x7F96B831AC80>, <PIL.Image.Image image mode=RGB size=576x320 at 0x7F96B831B6A0>, <PIL.Image.Image image mode=RGB size=576x320 at 0x7F96B831B3A0>, <PIL.Image.Image image mode=RGB size=576x320 at 0x7F96B831AE30>, <PIL.Image.Image image mode=RGB size=576x320 at 0x7F96B831B4C0>, <PIL.Image.Image image mode=RGB size=576x320 at 0x7F96B831AFE0>, <PIL.Image.Image image mode=RGB size=576x320 at 0x7F96B831B460>, <PIL.Image.Image image mode=RGB size=576x320 at 0x7F96B831B610>, <PIL.Image.Image image mode=RGB size=576x320 at 0x7F96B831B520>, <PIL.Image.Image image mode=RGB size=576x320 at 0x7F96B831ACB0>, <PIL.Image.Image image mode=RGB size=576x320 at 0x7F96B831AC50>, <PIL.Image.Image image mode=RGB size=576x320 at 0x7F96B831B550>, <PIL.Image.Image image mode=RGB size=576x320 at 0x7F96B831B3D0>, <PIL.Image.Image image mode=RGB size=576x320 at 0x7F96B831ADA0>, <PIL.Image.Image image mode=RGB size=576x320 at 0x7F96B831A920>, <PIL.Image.Image image mode=RGB size=576x320 at 0x7F96B831A770>, <PIL.Image.Image image mode=RGB size=576x320 at 0x7F96B831A7D0>, <PIL.Image.Image image mode=RGB size=576x320 at 0x7F96B831A800>, <PIL.Image.Image image mode=RGB size=576x320 at 0x7F96B831A830>]\n"
     ]
    }
   ],
   "source": [
    "print(len(frames), frames)"
   ]
  },
  {
   "cell_type": "code",
   "execution_count": 17,
   "metadata": {},
   "outputs": [
    {
     "data": {
      "text/plain": [
       "'../results/fire-car-11-700-32bit-small.mp4'"
      ]
     },
     "execution_count": 17,
     "metadata": {},
     "output_type": "execute_result"
    }
   ],
   "source": [
    "export_to_video(frames, \"../results/fire-car-11-700-32bit-small.mp4\", fps=7)"
   ]
  },
  {
   "cell_type": "code",
   "execution_count": null,
   "metadata": {},
   "outputs": [],
   "source": []
  }
 ],
 "metadata": {
  "kernelspec": {
   "display_name": "vfx-svd",
   "language": "python",
   "name": "python3"
  },
  "language_info": {
   "codemirror_mode": {
    "name": "ipython",
    "version": 3
   },
   "file_extension": ".py",
   "mimetype": "text/x-python",
   "name": "python",
   "nbconvert_exporter": "python",
   "pygments_lexer": "ipython3",
   "version": "3.10.14"
  }
 },
 "nbformat": 4,
 "nbformat_minor": 2
}
